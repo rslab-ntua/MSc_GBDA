{
  "nbformat": 4,
  "nbformat_minor": 0,
  "metadata": {
    "colab": {
      "name": "GBDA2020_Lab2_Pytorch",
      "provenance": [],
      "collapsed_sections": []
    },
    "kernelspec": {
      "name": "python3",
      "display_name": "Python 3"
    }
  },
  "cells": [
    {
      "cell_type": "markdown",
      "metadata": {
        "id": "u_2WHjuP3Ymh",
        "colab_type": "text"
      },
      "source": [
        "# Εργαστήριο 2 : Εισαγωγή στη Pytorch\n",
        "[Pytorch Tutorials](https://https://pytorch.org/tutorials/)"
      ]
    },
    {
      "cell_type": "code",
      "metadata": {
        "id": "_sj8Y9MEC6N8",
        "colab_type": "code",
        "colab": {}
      },
      "source": [
        "import torch"
      ],
      "execution_count": 0,
      "outputs": []
    },
    {
      "cell_type": "markdown",
      "metadata": {
        "id": "VWDJyov8XA8k",
        "colab_type": "text"
      },
      "source": [
        "### **Βασικές γνώσεις**"
      ]
    },
    {
      "cell_type": "markdown",
      "metadata": {
        "id": "X0iupq4J30NM",
        "colab_type": "text"
      },
      "source": [
        "\n",
        "Τι είναι ένα **Tensor**?\n",
        "  - Ισοδύναμο με μια numpy array\n",
        "  - Array n-διαστάσεων\n",
        "\n",
        "Γιατί είναι χρήσιμο?\n",
        "  - Μπορεί να καταγράφει τον υπολογιστικό γράφο και τις παραγώγους\n",
        "  - Δυναμική δομή δεδομένων\n",
        "  - Μπορεί να χρησιμοποιήσει GPU acceleration για γρήγορους υπολογισμούς\n",
        " \n",
        "\n",
        "---\n",
        "\n"
      ]
    },
    {
      "cell_type": "code",
      "metadata": {
        "id": "6-5_YV8gEUq8",
        "colab_type": "code",
        "outputId": "d24212f6-14bb-4d3c-ca8c-9e9297545200",
        "colab": {
          "base_uri": "https://localhost:8080/",
          "height": 34
        }
      },
      "source": [
        "\n",
        "x = torch.tensor([5,3])\n",
        "y = torch.tensor([2,1])\n",
        "\n",
        "print(x*y)"
      ],
      "execution_count": 0,
      "outputs": [
        {
          "output_type": "stream",
          "text": [
            "tensor([10,  3])\n"
          ],
          "name": "stdout"
        }
      ]
    },
    {
      "cell_type": "code",
      "metadata": {
        "id": "oIssM8Z7FtvD",
        "colab_type": "code",
        "outputId": "7599125d-daf1-4aee-bc2c-d58507158459",
        "colab": {
          "base_uri": "https://localhost:8080/",
          "height": 34
        }
      },
      "source": [
        "x = torch.zeros([2,5])\n",
        "print(x.shape)"
      ],
      "execution_count": 0,
      "outputs": [
        {
          "output_type": "stream",
          "text": [
            "torch.Size([2, 5])\n"
          ],
          "name": "stdout"
        }
      ]
    },
    {
      "cell_type": "code",
      "metadata": {
        "id": "PLlbEXneF8RL",
        "colab_type": "code",
        "colab": {}
      },
      "source": [
        "y = torch.rand([2,5])"
      ],
      "execution_count": 0,
      "outputs": []
    },
    {
      "cell_type": "code",
      "metadata": {
        "id": "uO7UbUF0GFCH",
        "colab_type": "code",
        "outputId": "f8bf781a-2b83-4fb8-c651-4c105f97e0f1",
        "colab": {
          "base_uri": "https://localhost:8080/",
          "height": 34
        }
      },
      "source": [
        "y = y.view([1,10])\n",
        "print(y.shape)"
      ],
      "execution_count": 0,
      "outputs": [
        {
          "output_type": "stream",
          "text": [
            "torch.Size([1, 10])\n"
          ],
          "name": "stdout"
        }
      ]
    },
    {
      "cell_type": "markdown",
      "metadata": {
        "id": "i7uFKUEvQqxo",
        "colab_type": "text"
      },
      "source": [
        "\n",
        "\n",
        "---\n",
        "\n"
      ]
    },
    {
      "cell_type": "markdown",
      "metadata": {
        "id": "h-T1IpIF74FJ",
        "colab_type": "text"
      },
      "source": [
        "### **Χρήση του Iris Dataset για ταξινόμηση**"
      ]
    },
    {
      "cell_type": "code",
      "metadata": {
        "id": "OskY8olz8ltI",
        "colab_type": "code",
        "outputId": "9ec891b7-bb07-4cbe-c622-dffe4c31075f",
        "colab": {
          "base_uri": "https://localhost:8080/",
          "height": 119
        }
      },
      "source": [
        "# Import data\n",
        "import urllib.request\n",
        "iris_data_url = 'http://archive.ics.uci.edu/ml/machine-learning-databases/iris/iris.data'\n",
        "urllib.request.urlretrieve(iris_data_url, 'iris.data')\n",
        "\n",
        "import pandas as pd\n",
        "# Read data\n",
        "data = pd.read_csv('iris.data', header=None)\n",
        "data.columns = ['sepal_length', 'sepal_width', 'petal_length', 'petal_width', 'label']\n",
        "\n",
        "print(data.head())"
      ],
      "execution_count": 0,
      "outputs": [
        {
          "output_type": "stream",
          "text": [
            "   sepal_length  sepal_width  petal_length  petal_width        label\n",
            "0           5.1          3.5           1.4          0.2  Iris-setosa\n",
            "1           4.9          3.0           1.4          0.2  Iris-setosa\n",
            "2           4.7          3.2           1.3          0.2  Iris-setosa\n",
            "3           4.6          3.1           1.5          0.2  Iris-setosa\n",
            "4           5.0          3.6           1.4          0.2  Iris-setosa\n"
          ],
          "name": "stdout"
        }
      ]
    },
    {
      "cell_type": "code",
      "metadata": {
        "id": "6RaZyAChIgop",
        "colab_type": "code",
        "colab": {}
      },
      "source": [
        "# Create two separate dataframes\n",
        "df1 = data\n",
        "df2 = data.iloc[:,4].copy()"
      ],
      "execution_count": 0,
      "outputs": []
    },
    {
      "cell_type": "code",
      "metadata": {
        "id": "dbrSsnlc-EXq",
        "colab_type": "code",
        "outputId": "d1b7d782-04a0-4f3a-fb7d-71ce4db8ac96",
        "colab": {
          "base_uri": "https://localhost:8080/",
          "height": 255
        }
      },
      "source": [
        "# Transform categories to numerics\n",
        "\n",
        "df1.loc[df1.label=='Iris-setosa', 'label'] = 0\n",
        "df1.loc[df1.label=='Iris-versicolor', 'label'] = 1\n",
        "df1.loc[df1.label=='Iris-virginica', 'label'] = 2\n",
        "\n",
        "# Append numerical labels to dataframe\n",
        "\n",
        "data = pd.concat([df1,df2], axis=1)\n",
        "data.columns = ['sepal_length', 'sepal_width', 'petal_length', 'petal_width', 'label_num', 'label']\n",
        "print(data)"
      ],
      "execution_count": 0,
      "outputs": [
        {
          "output_type": "stream",
          "text": [
            "     sepal_length  sepal_width  ...  label_num           label\n",
            "0             5.1          3.5  ...          0     Iris-setosa\n",
            "1             4.9          3.0  ...          0     Iris-setosa\n",
            "2             4.7          3.2  ...          0     Iris-setosa\n",
            "3             4.6          3.1  ...          0     Iris-setosa\n",
            "4             5.0          3.6  ...          0     Iris-setosa\n",
            "..            ...          ...  ...        ...             ...\n",
            "145           6.7          3.0  ...          2  Iris-virginica\n",
            "146           6.3          2.5  ...          2  Iris-virginica\n",
            "147           6.5          3.0  ...          2  Iris-virginica\n",
            "148           6.2          3.4  ...          2  Iris-virginica\n",
            "149           5.9          3.0  ...          2  Iris-virginica\n",
            "\n",
            "[150 rows x 6 columns]\n"
          ],
          "name": "stdout"
        }
      ]
    },
    {
      "cell_type": "markdown",
      "metadata": {
        "id": "9XVx93lLQoj6",
        "colab_type": "text"
      },
      "source": [
        "\n",
        "\n",
        "---\n",
        "\n"
      ]
    },
    {
      "cell_type": "markdown",
      "metadata": {
        "id": "w_w5lKP1QgxK",
        "colab_type": "text"
      },
      "source": [
        "### **Προετοιμασία του dataset**"
      ]
    },
    {
      "cell_type": "code",
      "metadata": {
        "id": "ylIOfofpDq6-",
        "colab_type": "code",
        "colab": {}
      },
      "source": [
        "# Perform train-test split\n",
        "from sklearn.model_selection import train_test_split\n",
        "X = data.values[:, 0:4]\n",
        "labels = data.values[:, 4]\n",
        "X_train, X_test, y_train, y_test = train_test_split(data[data.columns[0:4]].values,\n",
        "                                                    data.label_num.values, \n",
        "                                                    test_size=0.3,\n",
        "                                                    random_state=2020)\n"
      ],
      "execution_count": 0,
      "outputs": []
    },
    {
      "cell_type": "code",
      "metadata": {
        "id": "DtMq70ySF2fJ",
        "colab_type": "code",
        "colab": {}
      },
      "source": [
        "# Feature scaling \n",
        "# ...so that all of them can be uniformly evaluated\n",
        "from sklearn.preprocessing import StandardScaler\n",
        "scaler = StandardScaler()\n",
        "scaler.fit(X_train)\n",
        "\n",
        "X_train = scaler.transform(X_train)\n",
        "X_test = scaler.transform(X_test)"
      ],
      "execution_count": 0,
      "outputs": []
    },
    {
      "cell_type": "code",
      "metadata": {
        "id": "hshLj7Ur2Iib",
        "colab_type": "code",
        "outputId": "6dcf61ef-79bb-4e0b-ae9b-30eda61985a3",
        "colab": {
          "base_uri": "https://localhost:8080/",
          "height": 34
        }
      },
      "source": [
        "print(type(y_train))"
      ],
      "execution_count": 0,
      "outputs": [
        {
          "output_type": "stream",
          "text": [
            "<class 'numpy.ndarray'>\n"
          ],
          "name": "stdout"
        }
      ]
    },
    {
      "cell_type": "markdown",
      "metadata": {
        "id": "bHgOFtWlQ5gn",
        "colab_type": "text"
      },
      "source": [
        "### **Δημιουργία ενός νευρωνικού δικτύου**"
      ]
    },
    {
      "cell_type": "code",
      "metadata": {
        "id": "1ejeEJiB73Eg",
        "colab_type": "code",
        "colab": {}
      },
      "source": [
        "import torch.nn as nn\n",
        "\n",
        "class Net(nn.Module):\n",
        "    # Init function : defines nn architecture\n",
        "    def __init__(self):\n",
        "        super(Net, self).__init__()\n",
        "        self.fc1 = nn.Linear(4, 100)\n",
        "        self.fc2 = nn.Linear(100, 100)\n",
        "        self.fc3 = nn.Linear(100, 3)\n",
        "        self.softmax = nn.Softmax(dim=1)\n",
        "\n",
        "    # Forward function : contains\n",
        "    def forward(self, X):\n",
        "        X = F.relu(self.fc1(X))\n",
        "        X = F.relu(self.fc2(X))\n",
        "        X = self.fc3(X)\n",
        "        X = self.softmax(X)\n",
        "        return X"
      ],
      "execution_count": 0,
      "outputs": []
    },
    {
      "cell_type": "markdown",
      "metadata": {
        "id": "VzP3HQ_7Ro7m",
        "colab_type": "text"
      },
      "source": [
        "### **Εκπαίδευση του δικτύου**"
      ]
    },
    {
      "cell_type": "code",
      "metadata": {
        "id": "ZkTTzM2uZQUI",
        "colab_type": "code",
        "colab": {}
      },
      "source": [
        "# Set some hyperparameters\n",
        "learning_rate = 0.01\n",
        "epochs = 2000\n",
        "batch_size = 10"
      ],
      "execution_count": 0,
      "outputs": []
    },
    {
      "cell_type": "code",
      "metadata": {
        "id": "Qm-QjdAnUA7f",
        "colab_type": "code",
        "colab": {}
      },
      "source": [
        "from torch.utils.data import Dataset, DataLoader\n",
        "\n",
        "# Create a dataset subclass\n",
        "class CustomDataset(Dataset):\n",
        "  def __init__(self, data, label_num):\n",
        "    super().__init__()\n",
        "    self.data = data\n",
        "    self.label = label_num\n",
        "\n",
        "  def __len__(self):\n",
        "    return self.data.shape[0]\n",
        "\n",
        "  def __getitem__(self, index):\n",
        "    d = {'data': torch.from_numpy(self.data[index]).type(torch.float32),\n",
        "         'label': torch.Tensor([self.label[index]]).type(torch.int64)}\n",
        "    return d\n",
        "  \n",
        "trainset = CustomDataset(X_train, y_train)\n",
        "testset = CustomDataset(X_test, y_test)\n",
        "\n",
        "trainloader = DataLoader(trainset, batch_size=batch_size, shuffle=True)\n",
        "testloader = DataLoader(testset, batch_size=batch_size, shuffle=True)"
      ],
      "execution_count": 0,
      "outputs": []
    },
    {
      "cell_type": "code",
      "metadata": {
        "id": "7vebHutvRoIm",
        "colab_type": "code",
        "colab": {}
      },
      "source": [
        "import torch.nn.functional as F\n",
        "import torch.optim as optim\n",
        "\n",
        "# Create an instance of our network\n",
        "net = Net()\n",
        "\n",
        "# Set the loss function\n",
        "criterion = nn.CrossEntropyLoss()\n",
        "\n",
        "# Set the optimization method\n",
        "optimizer = optim.SGD(net.parameters(), lr=learning_rate)\n",
        "\n",
        "# Initialize losses & accuracies of train and test set\n",
        "train_losses = list()\n",
        "test_losses = list()\n",
        "train_acc = list()\n",
        "test_acc = list()\n",
        "\n",
        "# Training loop\n",
        "for epoch in range(epochs):\n",
        "\n",
        "  # Initialization for \"trainloader loop\"\n",
        "  total_loss = 0\n",
        "  total = 0\n",
        "  correct = 0\n",
        "  \n",
        "\n",
        "  ### Loop in trainset ###\n",
        "  for batch in trainloader:\n",
        "    optimizer.zero_grad()\n",
        "    # Arrange data into batches\n",
        "    X = batch['data']\n",
        "    y = batch['label'].view(-1)\n",
        "    # Make the prediction\n",
        "    y_pred = net(X)\n",
        "    # Calculate num of total y and correct predictions\n",
        "    total += float(y.size()[0])\n",
        "    correct += float((torch.argmax(y_pred, axis=1) == y).sum())\n",
        "    # Calculate train loss\n",
        "    loss = criterion(y_pred, y)\n",
        "    # Do backpropagation\n",
        "    loss.backward()\n",
        "    # Perform one step of optimization method\n",
        "    optimizer.step()\n",
        "    # Append loss of each loss to total_loss\n",
        "    total_loss += loss\n",
        "  # Evaluate train loss & accuracy per epoch\n",
        "  train_losses.append(total_loss/len(trainloader))\n",
        "  train_acc.append(correct/total)\n",
        "\n",
        "  # Initialization for \"testloader loop\"\n",
        "  eval_loss = 0\n",
        "  total = 0\n",
        "  correct = 0 \n",
        "\n",
        "  ### Loop in testset ###\n",
        "  for batch in testloader:\n",
        "    # Arrange data into batches\n",
        "    X = batch['data']\n",
        "    y = batch['label'].view(-1)\n",
        "    # Make the prediction\n",
        "    y_pred = net(X)\n",
        "    # Calculate num of total y and correct predictions\n",
        "    total += float(y.size()[0])\n",
        "    correct += float((torch.argmax(y_pred, axis=1) == y).sum())\n",
        "    # Calculate evaluation loss\n",
        "    loss = criterion(y_pred, y)\n",
        "    eval_loss += loss\n",
        "  \n",
        "  # Evaluate train loss & accuracy per epoch!\n",
        "  test_losses.append(eval_loss/len(testloader))\n",
        "  test_acc.append(correct/total)\n",
        "\n",
        "  if epoch % 100 == 0:\n",
        "    print(f'Epoch {epoch+1} completed. Train_loss:{total_loss/len(trainloader)}, Test_loss:{eval_loss/len(testloader)}, acc:{100*correct/total:02.2f}%')"
      ],
      "execution_count": 0,
      "outputs": []
    },
    {
      "cell_type": "markdown",
      "metadata": {
        "id": "olSH3buV_Z_5",
        "colab_type": "text"
      },
      "source": [
        "\n",
        "\n",
        "---\n",
        "\n"
      ]
    },
    {
      "cell_type": "markdown",
      "metadata": {
        "id": "iL6HEFng_TTp",
        "colab_type": "text"
      },
      "source": [
        "## **Αξιολόγηση**"
      ]
    },
    {
      "cell_type": "markdown",
      "metadata": {
        "id": "wUYmr6sc_dfZ",
        "colab_type": "text"
      },
      "source": [
        "[Scikit-learn metrics](https://scikit-learn.org/stable/modules/classes.html#sklearn-metrics-metrics)"
      ]
    },
    {
      "cell_type": "code",
      "metadata": {
        "id": "HIdTh_yz_Xnj",
        "colab_type": "code",
        "outputId": "6aa1c1ee-5ef9-4321-bd1f-4eb4d8deb09f",
        "colab": {
          "base_uri": "https://localhost:8080/",
          "height": 530
        }
      },
      "source": [
        "import matplotlib.pyplot as plt\n",
        "%matplotlib inline\n",
        "\n",
        "plt.plot(range(1, epochs+1), train_losses, 'g-')\n",
        "plt.plot(range(1, epochs+1), test_losses, 'r--')\n",
        "\n",
        "plt.figure()\n",
        "plt.plot(range(1, epochs+1), train_acc, 'g-')\n",
        "plt.plot(range(1, epochs+1), test_acc, 'r--')"
      ],
      "execution_count": 0,
      "outputs": [
        {
          "output_type": "execute_result",
          "data": {
            "text/plain": [
              "[<matplotlib.lines.Line2D at 0x7f1e20d13048>]"
            ]
          },
          "metadata": {
            "tags": []
          },
          "execution_count": 309
        },
        {
          "output_type": "display_data",
          "data": {
            "image/png": "[encoded data removed]",
            "text/plain": [
              "<Figure size 432x288 with 1 Axes>"
            ]
          },
          "metadata": {
            "tags": [],
            "needs_background": "light"
          }
        },
        {
          "output_type": "display_data",
          "data": {
            "image/png": "[encoded data removed]",
            "text/plain": [
              "<Figure size 432x288 with 1 Axes>"
            ]
          },
          "metadata": {
            "tags": [],
            "needs_background": "light"
          }
        }
      ]
    },
    {
      "cell_type": "markdown",
      "metadata": {
        "id": "c_clXHI1GL6z",
        "colab_type": "text"
      },
      "source": [
        "\n",
        "\n",
        "---\n",
        "\n"
      ]
    }
  ]
}
