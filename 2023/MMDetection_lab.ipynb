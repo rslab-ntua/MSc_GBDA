{
  "cells": [
    {
      "attachments": {},
      "cell_type": "markdown",
      "metadata": {
        "colab_type": "text",
        "id": "view-in-github"
      },
      "source": [
        "<a href=\"https://colab.research.google.com/github/rslab-ntua/MSc_GBDA/blob/master/2023/MMDetection_lab.ipynb\" target=\"_parent\"><img src=\"https://colab.research.google.com/assets/colab-badge.svg\" alt=\"Open In Colab\"/></a>"
      ]
    },
    {
      "cell_type": "markdown",
      "metadata": {
        "id": "IUuhWcANjrCb"
      },
      "source": [
        "# Install MMDetection\n",
        "\n",
        "Step 1. Install MMEngine and MMCV using MIM."
      ]
    },
    {
      "cell_type": "code",
      "execution_count": null,
      "metadata": {
        "id": "z_B2_uaejkxD"
      },
      "outputs": [],
      "source": [
        "!pip3 install openmim\n",
        "!mim install mmengine\n",
        "!mim install \"mmcv>=2.0.0,<2.1.0\""
      ]
    },
    {
      "cell_type": "markdown",
      "metadata": {
        "id": "HGzZkcckjwRQ"
      },
      "source": [
        "Step 2. Install MMDetection from the source."
      ]
    },
    {
      "cell_type": "code",
      "execution_count": null,
      "metadata": {
        "id": "4Y7_YJ6mjogq"
      },
      "outputs": [],
      "source": [
        "!git clone https://github.com/open-mmlab/mmdetection.git\n",
        "%cd mmdetection\n",
        "!pip install -e ."
      ]
    },
    {
      "cell_type": "markdown",
      "metadata": {
        "id": "4MX73d09j7ln"
      },
      "source": [
        "Step 3. Verification."
      ]
    },
    {
      "cell_type": "code",
      "execution_count": null,
      "metadata": {
        "id": "yZOjj9Evj6gh"
      },
      "outputs": [],
      "source": [
        "import mmdet\n",
        "print(mmdet.__version__)\n",
        "# Example output: 3.0.0, or an another version."
      ]
    },
    {
      "cell_type": "markdown",
      "metadata": {
        "id": "QrEKpLOMkPvk"
      },
      "source": [
        "# TRAIN WITH CUSTOMIZED DATASETS\n",
        "\n",
        "Check [tutorial](https://mmdetection.readthedocs.io/en/latest/user_guides/train.html#train-with-customized-datasets)"
      ]
    },
    {
      "cell_type": "code",
      "execution_count": null,
      "metadata": {
        "id": "L5Aj-u8LkPjz"
      },
      "outputs": [],
      "source": [
        "!mkdir data\n",
        "%cd data\n",
        "!wget https://github.com/matterport/Mask_RCNN/releases/download/v2.1/balloon_dataset.zip\n",
        "!unzip balloon_dataset.zip\n",
        "%cd ..\n"
      ]
    },
    {
      "cell_type": "markdown",
      "metadata": {
        "id": "93bXqeP7kfww"
      },
      "source": [
        "Convert dataset to COCO format (using code!)"
      ]
    },
    {
      "cell_type": "code",
      "execution_count": null,
      "metadata": {
        "id": "1Gi-jGFHkAXd"
      },
      "outputs": [],
      "source": [
        "import os.path as osp\n",
        "\n",
        "import mmcv\n",
        "\n",
        "from mmengine.fileio import dump, load\n",
        "from mmengine.utils import track_iter_progress\n",
        "\n",
        "\n",
        "def convert_balloon_to_coco(ann_file, out_file, image_prefix):\n",
        "    data_infos = load(ann_file)\n",
        "\n",
        "    annotations = []\n",
        "    images = []\n",
        "    obj_count = 0\n",
        "    for idx, v in enumerate(track_iter_progress(data_infos.values())):\n",
        "        filename = v['filename']\n",
        "        img_path = osp.join(image_prefix, filename)\n",
        "        height, width = mmcv.imread(img_path).shape[:2]\n",
        "\n",
        "        images.append(\n",
        "            dict(id=idx, file_name=filename, height=height, width=width))\n",
        "\n",
        "        for _, obj in v['regions'].items():\n",
        "            assert not obj['region_attributes']\n",
        "            obj = obj['shape_attributes']\n",
        "            px = obj['all_points_x']\n",
        "            py = obj['all_points_y']\n",
        "            poly = [(x + 0.5, y + 0.5) for x, y in zip(px, py)]\n",
        "            poly = [p for x in poly for p in x]\n",
        "\n",
        "            x_min, y_min, x_max, y_max = (min(px), min(py), max(px), max(py))\n",
        "\n",
        "            data_anno = dict(\n",
        "                image_id=idx,\n",
        "                id=obj_count,\n",
        "                category_id=0,\n",
        "                bbox=[x_min, y_min, x_max - x_min, y_max - y_min],\n",
        "                area=(x_max - x_min) * (y_max - y_min),\n",
        "                segmentation=[poly],\n",
        "                iscrowd=0)\n",
        "            annotations.append(data_anno)\n",
        "            obj_count += 1\n",
        "\n",
        "    coco_format_json = dict(\n",
        "        images=images,\n",
        "        annotations=annotations,\n",
        "        categories=[{\n",
        "            'id': 0,\n",
        "            'name': 'balloon'\n",
        "        }])\n",
        "    dump(coco_format_json, out_file)\n",
        "\n",
        "\n",
        "if __name__ == '__main__':\n",
        "    convert_balloon_to_coco(ann_file='data/balloon/train/via_region_data.json',\n",
        "                            out_file='data/balloon/train/annotation_coco.json',\n",
        "                            image_prefix='data/balloon/train')\n",
        "    convert_balloon_to_coco(ann_file='data/balloon/val/via_region_data.json',\n",
        "                            out_file='data/balloon/val/annotation_coco.json',\n",
        "                            image_prefix='data/balloon/val')"
      ]
    },
    {
      "cell_type": "markdown",
      "metadata": {
        "id": "x3PzeJMRprzg"
      },
      "source": [
        "# Prepare a config\n",
        "\n",
        "1. Make a folder under mmdetection/configs named \"balloon\"\n",
        "2. Create a new file named \"mask-rcnn_r50-caffe_fpn_ms-poly-1x_balloon.py\"\n",
        "3. Write config into that file\n",
        "\n",
        "Sample config\n",
        "\n",
        "```python\n",
        "# The new config inherits a base config to highlight the necessary modification\n",
        "_base_ = '../mask_rcnn/mask-rcnn_r50-caffe_fpn_ms-poly-1x_coco.py'\n",
        "\n",
        "# We also need to change the num_classes in head to match the dataset's annotation\n",
        "model = dict(\n",
        "    roi_head=dict(\n",
        "        bbox_head=dict(num_classes=1), mask_head=dict(num_classes=1)))\n",
        "\n",
        "# Modify dataset related settings\n",
        "data_root = 'data/balloon/'\n",
        "metainfo = {\n",
        "    'classes': ('balloon', ),\n",
        "    'palette': [\n",
        "        (220, 20, 60),\n",
        "    ]\n",
        "}\n",
        "train_dataloader = dict(\n",
        "    batch_size=1,\n",
        "    dataset=dict(\n",
        "        data_root=data_root,\n",
        "        metainfo=metainfo,\n",
        "        ann_file='train/annotation_coco.json',\n",
        "        data_prefix=dict(img='train/')))\n",
        "val_dataloader = dict(\n",
        "    dataset=dict(\n",
        "        data_root=data_root,\n",
        "        metainfo=metainfo,\n",
        "        ann_file='val/annotation_coco.json',\n",
        "        data_prefix=dict(img='val/')))\n",
        "test_dataloader = val_dataloader\n",
        "\n",
        "# Modify metric related settings\n",
        "val_evaluator = dict(ann_file=data_root + 'val/annotation_coco.json')\n",
        "test_evaluator = val_evaluator\n",
        "\n",
        "# We can use the pre-trained Mask RCNN model to obtain higher performance\n",
        "load_from = 'https://download.openmmlab.com/mmdetection/v2.0/mask_rcnn/mask_rcnn_r50_caffe_fpn_mstrain-poly_3x_coco/mask_rcnn_r50_caffe_fpn_mstrain-poly_3x_coco_bbox_mAP-0.408__segm_mAP-0.37_20200504_163245-42aa3d00.pth'\n",
        "\n",
        "\n",
        "```"
      ]
    },
    {
      "cell_type": "markdown",
      "metadata": {
        "id": "0GXAcIQHqyTS"
      },
      "source": [
        "# Train model!"
      ]
    },
    {
      "cell_type": "code",
      "execution_count": null,
      "metadata": {
        "id": "g6npEDzfmiVg"
      },
      "outputs": [],
      "source": [
        "!python tools/train.py configs/balloon/mask-rcnn_r50-caffe_fpn_ms-poly-1x_balloon.py"
      ]
    },
    {
      "cell_type": "markdown",
      "metadata": {
        "id": "PWwwE64orUxC"
      },
      "source": [
        "# Test model & Inference!"
      ]
    },
    {
      "cell_type": "code",
      "execution_count": null,
      "metadata": {
        "id": "WAacxl4tnULz"
      },
      "outputs": [],
      "source": [
        "!python tools/test.py configs/balloon/mask-rcnn_r50-caffe_fpn_ms-poly-1x_balloon.py work_dirs/mask-rcnn_r50-caffe_fpn_ms-poly-1x_balloon/epoch_6.pth --show-dir mask-rcnn_r50-caffe_fpn_ms-poly-1x_balloon_results"
      ]
    }
  ],
  "metadata": {
    "accelerator": "GPU",
    "colab": {
      "authorship_tag": "ABX9TyMiToctqsUO8XKst/dFcDNF",
      "gpuType": "T4",
      "include_colab_link": true,
      "provenance": []
    },
    "kernelspec": {
      "display_name": "Python 3",
      "name": "python3"
    },
    "language_info": {
      "name": "python"
    }
  },
  "nbformat": 4,
  "nbformat_minor": 0
}
